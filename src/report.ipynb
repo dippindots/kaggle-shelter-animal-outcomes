{
 "cells": [
  {
   "cell_type": "markdown",
   "metadata": {},
   "source": [
    "# Capstone Project\n",
    "## Definition\n",
    "### Project Overview\n",
    "My project is my code for the [Kaggle Shelter Animal Outcomes contest](https://www.kaggle.com/c/shelter-animal-outcomes).  As described on the Kaggle site:\n",
    ">Every year, approximately 7.6 million companion animals end up in US shelters. Many animals are given up as unwanted by their owners, while others are picked up after getting lost or taken out of cruelty situations. Many of these animals find forever families to take them home, but just as many are not so lucky. 2.7 million dogs and cats are euthanized in the US every year.\n",
    "\n",
    "### Problem Statement\n",
    "As described on the Kaggle site:\n",
    ">Using a dataset of intake information including breed, color, sex, and age from the \n",
    "> [Austin Animal Center](http://www.austintexas.gov/department/animal-services), \n",
    "> we're asking Kagglers to predict the outcome for each animal.\n",
    "\n",
    "### Metrics\n",
    "> <p>Submissions are evaluated using the <a href=\"https://www.kaggle.com/wiki/MultiClassLogLoss\">multi-class logarithmic loss</a>. Each incident has been labeled with one true class. For each animal, you must submit a set of predicted probabilities (one for every class). The formula is then,</p>\n",
    "> <p>$$log loss = -\\frac{1}{N}\\sum_{i=1}^N\\sum_{j=1}^My_{ij}\\log(p_{ij}),$$</p>\n",
    "> <p>where N is the number of animals in the test set, M is the number of outcomes, \\\\(log\\\\) is the natural logarithm, \\\\(y_{ij}\\\\) is 1 if observation \\\\(i\\\\) is in outcome \\\\(j\\\\) and 0 otherwise, and \\\\(p_{ij}\\\\) is the predicted probability that observation \\\\(i\\\\) belongs to outcome \\\\(j\\\\).</p>\n",
    "> <p>The submitted probabilities for a given animal are not required to sum to one because they are rescaled prior to being scored (each row is divided by the row sum). In order to avoid the extremes of the log function, predicted probabilities are replaced with \\\\(max(min(p,1-10^{-15}),10^{-15})\\\\).</p>\n",
    "\n",
    "\n",
    "## Analysis\n",
    "### Data Exploration"
   ]
  },
  {
   "cell_type": "code",
   "execution_count": 2,
   "metadata": {
    "collapsed": false
   },
   "outputs": [
    {
     "name": "stderr",
     "output_type": "stream",
     "text": [
      "//anaconda/lib/python2.7/site-packages/matplotlib/font_manager.py:273: UserWarning: Matplotlib is building the font cache using fc-list. This may take a moment.\n",
      "  warnings.warn('Matplotlib is building the font cache using fc-list. This may take a moment.')\n"
     ]
    },
    {
     "name": "stdout",
     "output_type": "stream",
     "text": [
      "  AnimalID     Name             DateTime      OutcomeType OutcomeSubtype  \\\n",
      "0  A671945  Hambone  2014-02-12 18:22:00  Return_to_owner            NaN   \n",
      "1  A656520    Emily  2013-10-13 12:44:00       Euthanasia      Suffering   \n",
      "2  A686464   Pearce  2015-01-31 12:28:00         Adoption         Foster   \n",
      "3  A683430      NaN  2014-07-11 19:09:00         Transfer        Partner   \n",
      "4  A667013      NaN  2013-11-15 12:52:00         Transfer        Partner   \n",
      "\n",
      "  AnimalType SexuponOutcome AgeuponOutcome                        Breed  \\\n",
      "0        Dog  Neutered Male         1 year        Shetland Sheepdog Mix   \n",
      "1        Cat  Spayed Female         1 year       Domestic Shorthair Mix   \n",
      "2        Dog  Neutered Male        2 years                 Pit Bull Mix   \n",
      "3        Cat    Intact Male        3 weeks       Domestic Shorthair Mix   \n",
      "4        Dog  Neutered Male        2 years  Lhasa Apso/Miniature Poodle   \n",
      "\n",
      "         Color  \n",
      "0  Brown/White  \n",
      "1  Cream Tabby  \n",
      "2   Blue/White  \n",
      "3   Blue Cream  \n",
      "4          Tan  \n"
     ]
    }
   ],
   "source": [
    "%matplotlib inline\n",
    "import pandas as pd \n",
    "\n",
    "data = pd.read_csv('../data/train.csv')\n",
    "print data.head()"
   ]
  },
  {
   "cell_type": "markdown",
   "metadata": {},
   "source": [
    "### Exploratory Visualization"
   ]
  },
  {
   "cell_type": "code",
   "execution_count": 6,
   "metadata": {
    "collapsed": false
   },
   "outputs": [
    {
     "data": {
      "text/plain": [
       "<matplotlib.axes._subplots.AxesSubplot at 0x111357690>"
      ]
     },
     "execution_count": 6,
     "metadata": {},
     "output_type": "execute_result"
    },
    {
     "data": {
      "image/png": "[encoded data removed]",
      "text/plain": [
       "<matplotlib.figure.Figure at 0x11210a310>"
      ]
     },
     "metadata": {},
     "output_type": "display_data"
    }
   ],
   "source": [
    "data['OutcomeType'].value_counts().plot(kind='bar')"
   ]
  },
  {
   "cell_type": "code",
   "execution_count": 7,
   "metadata": {
    "collapsed": false
   },
   "outputs": [
    {
     "data": {
      "text/plain": [
       "<matplotlib.axes._subplots.AxesSubplot at 0x111dc0610>"
      ]
     },
     "execution_count": 7,
     "metadata": {},
     "output_type": "execute_result"
    },
    {
     "data": {
      "image/png": "[encoded data removed]",
      "text/plain": [
       "<matplotlib.figure.Figure at 0x1116e1c90>"
      ]
     },
     "metadata": {},
     "output_type": "display_data"
    }
   ],
   "source": [
    "black = data['AnimalType'] == \"Dog\"\n",
    "dog = data['Color'] == \"Black\"\n",
    "black_dogs = data[black & dog]\n",
    "black_dogs.head()\n",
    "black_dogs['OutcomeType'].value_counts().plot(kind='bar')"
   ]
  },
  {
   "cell_type": "markdown",
   "metadata": {},
   "source": [
    "### Algorithms and Techniques\n",
    "### Benchmark\n",
    "## Methodology\n",
    "## Results\n",
    "## Conclusion"
   ]
  }
 ],
 "metadata": {
  "kernelspec": {
   "display_name": "Python 2",
   "language": "python",
   "name": "python2"
  },
  "language_info": {
   "codemirror_mode": {
    "name": "ipython",
    "version": 2
   },
   "file_extension": ".py",
   "mimetype": "text/x-python",
   "name": "python",
   "nbconvert_exporter": "python",
   "pygments_lexer": "ipython2",
   "version": "2.7.11"
  }
 },
 "nbformat": 4,
 "nbformat_minor": 0
}
