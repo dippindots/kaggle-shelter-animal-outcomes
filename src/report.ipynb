{
 "cells": [
  {
   "cell_type": "markdown",
   "metadata": {},
   "source": [
    "# Capstone Project\n",
    "## Definition\n",
    "### Project Overview\n",
    "My project is my code for the [Kaggle Shelter Animal Outcomes contest](https://www.kaggle.com/c/shelter-animal-outcomes).  As described on Kaggle:\n",
    ">Every year, approximately 7.6 million companion animals end up in US shelters. Many animals are given up as unwanted by their owners, while others are picked up after getting lost or taken out of cruelty situations. Many of these animals find forever families to take them home, but just as many are not so lucky. 2.7 million dogs and cats are euthanized in the US every year.\n",
    "\n",
    "### Problem Statement\n",
    "As described on Kaggle:\n",
    ">Using a dataset of intake information including breed, color, sex, and age from the \n",
    "> [Austin Animal Center](http://www.austintexas.gov/department/animal-services), \n",
    "> we're asking Kagglers to predict the outcome for each animal.\n",
    "\n",
    "### Metrics\n",
    "As described on Kaggle:\n",
    "> <p>Submissions are evaluated using the <a href=\"https://www.kaggle.com/wiki/MultiClassLogLoss\">multi-class logarithmic loss</a>. Each incident has been labeled with one true class. For each animal, you must submit a set of predicted probabilities (one for every class). The formula is then,</p>\n",
    "> <p>$$log loss = -\\frac{1}{N}\\sum_{i=1}^N\\sum_{j=1}^My_{ij}\\log(p_{ij}),$$</p>\n",
    "> <p>where N is the number of animals in the test set, M is the number of outcomes, \\\\(log\\\\) is the natural logarithm, \\\\(y_{ij}\\\\) is 1 if observation \\\\(i\\\\) is in outcome \\\\(j\\\\) and 0 otherwise, and $p_{ij}$ is the predicted probability that observation \\\\(i\\\\) belongs to outcome \\\\(j\\\\).</p>\n",
    "> <p>The submitted probabilities for a given animal are not required to sum to one because they are rescaled prior to being scored (each row is divided by the row sum). In order to avoid the extremes of the log function, predicted probabilities are replaced with \\\\(max(min(p,1-10^{-15}),10^{-15})\\\\).</p>\n",
    "\n",
    "\n",
    "## Analysis\n",
    "### Data Exploration"
   ]
  },
  {
   "cell_type": "code",
   "execution_count": 132,
   "metadata": {
    "collapsed": false
   },
   "outputs": [
    {
     "data": {
      "text/html": [
       "<div>\n",
       "<table border=\"1\" class=\"dataframe\">\n",
       "  <thead>\n",
       "    <tr style=\"text-align: right;\">\n",
       "      <th></th>\n",
       "      <th>AnimalID</th>\n",
       "      <th>Name</th>\n",
       "      <th>DateTime</th>\n",
       "      <th>OutcomeType</th>\n",
       "      <th>OutcomeSubtype</th>\n",
       "      <th>AnimalType</th>\n",
       "      <th>SexuponOutcome</th>\n",
       "      <th>AgeuponOutcome</th>\n",
       "      <th>Breed</th>\n",
       "      <th>Color</th>\n",
       "    </tr>\n",
       "  </thead>\n",
       "  <tbody>\n",
       "    <tr>\n",
       "      <th>0</th>\n",
       "      <td>A671945</td>\n",
       "      <td>Hambone</td>\n",
       "      <td>2014-02-12 18:22:00</td>\n",
       "      <td>Return_to_owner</td>\n",
       "      <td>NaN</td>\n",
       "      <td>Dog</td>\n",
       "      <td>Neutered Male</td>\n",
       "      <td>1 year</td>\n",
       "      <td>Shetland Sheepdog Mix</td>\n",
       "      <td>Brown/White</td>\n",
       "    </tr>\n",
       "    <tr>\n",
       "      <th>1</th>\n",
       "      <td>A656520</td>\n",
       "      <td>Emily</td>\n",
       "      <td>2013-10-13 12:44:00</td>\n",
       "      <td>Euthanasia</td>\n",
       "      <td>Suffering</td>\n",
       "      <td>Cat</td>\n",
       "      <td>Spayed Female</td>\n",
       "      <td>1 year</td>\n",
       "      <td>Domestic Shorthair Mix</td>\n",
       "      <td>Cream Tabby</td>\n",
       "    </tr>\n",
       "    <tr>\n",
       "      <th>2</th>\n",
       "      <td>A686464</td>\n",
       "      <td>Pearce</td>\n",
       "      <td>2015-01-31 12:28:00</td>\n",
       "      <td>Adoption</td>\n",
       "      <td>Foster</td>\n",
       "      <td>Dog</td>\n",
       "      <td>Neutered Male</td>\n",
       "      <td>2 years</td>\n",
       "      <td>Pit Bull Mix</td>\n",
       "      <td>Blue/White</td>\n",
       "    </tr>\n",
       "    <tr>\n",
       "      <th>3</th>\n",
       "      <td>A683430</td>\n",
       "      <td>NaN</td>\n",
       "      <td>2014-07-11 19:09:00</td>\n",
       "      <td>Transfer</td>\n",
       "      <td>Partner</td>\n",
       "      <td>Cat</td>\n",
       "      <td>Intact Male</td>\n",
       "      <td>3 weeks</td>\n",
       "      <td>Domestic Shorthair Mix</td>\n",
       "      <td>Blue Cream</td>\n",
       "    </tr>\n",
       "    <tr>\n",
       "      <th>4</th>\n",
       "      <td>A667013</td>\n",
       "      <td>NaN</td>\n",
       "      <td>2013-11-15 12:52:00</td>\n",
       "      <td>Transfer</td>\n",
       "      <td>Partner</td>\n",
       "      <td>Dog</td>\n",
       "      <td>Neutered Male</td>\n",
       "      <td>2 years</td>\n",
       "      <td>Lhasa Apso/Miniature Poodle</td>\n",
       "      <td>Tan</td>\n",
       "    </tr>\n",
       "  </tbody>\n",
       "</table>\n",
       "</div>"
      ],
      "text/plain": [
       "  AnimalID     Name            DateTime      OutcomeType OutcomeSubtype  \\\n",
       "0  A671945  Hambone 2014-02-12 18:22:00  Return_to_owner            NaN   \n",
       "1  A656520    Emily 2013-10-13 12:44:00       Euthanasia      Suffering   \n",
       "2  A686464   Pearce 2015-01-31 12:28:00         Adoption         Foster   \n",
       "3  A683430      NaN 2014-07-11 19:09:00         Transfer        Partner   \n",
       "4  A667013      NaN 2013-11-15 12:52:00         Transfer        Partner   \n",
       "\n",
       "  AnimalType SexuponOutcome AgeuponOutcome                        Breed  \\\n",
       "0        Dog  Neutered Male         1 year        Shetland Sheepdog Mix   \n",
       "1        Cat  Spayed Female         1 year       Domestic Shorthair Mix   \n",
       "2        Dog  Neutered Male        2 years                 Pit Bull Mix   \n",
       "3        Cat    Intact Male        3 weeks       Domestic Shorthair Mix   \n",
       "4        Dog  Neutered Male        2 years  Lhasa Apso/Miniature Poodle   \n",
       "\n",
       "         Color  \n",
       "0  Brown/White  \n",
       "1  Cream Tabby  \n",
       "2   Blue/White  \n",
       "3   Blue Cream  \n",
       "4          Tan  "
      ]
     },
     "execution_count": 132,
     "metadata": {},
     "output_type": "execute_result"
    }
   ],
   "source": [
    "%matplotlib inline\n",
    "import pandas as pd \n",
    "\n",
    "train_data = pd.read_csv('../data/train.csv', parse_dates=['DateTime'])\n",
    "train_data.head()"
   ]
  },
  {
   "cell_type": "code",
   "execution_count": 101,
   "metadata": {
    "collapsed": false
   },
   "outputs": [
    {
     "data": {
      "text/plain": [
       "AnimalID              0\n",
       "Name               7691\n",
       "DateTime              0\n",
       "OutcomeType           0\n",
       "OutcomeSubtype    13612\n",
       "AnimalType            0\n",
       "SexuponOutcome        1\n",
       "AgeuponOutcome       18\n",
       "Breed                 0\n",
       "Color                 0\n",
       "dtype: int64"
      ]
     },
     "execution_count": 101,
     "metadata": {},
     "output_type": "execute_result"
    }
   ],
   "source": [
    "train_data.isnull().sum()"
   ]
  },
  {
   "cell_type": "code",
   "execution_count": 102,
   "metadata": {
    "collapsed": false
   },
   "outputs": [
    {
     "data": {
      "text/plain": [
       "ID                   0\n",
       "Name              3225\n",
       "DateTime             0\n",
       "AnimalType           0\n",
       "SexuponOutcome       0\n",
       "AgeuponOutcome       6\n",
       "Breed                0\n",
       "Color                0\n",
       "dtype: int64"
      ]
     },
     "execution_count": 102,
     "metadata": {},
     "output_type": "execute_result"
    }
   ],
   "source": [
    "test_data = pd.read_csv('../data/test.csv', parse_dates=['DateTime'])\n",
    "test_data.isnull().sum()"
   ]
  },
  {
   "cell_type": "markdown",
   "metadata": {},
   "source": [
    "From the data info, we can see that many of the animals have missing names.  This should not matter since it is unlikely that an animal's outcome would depend on its name.  (However, we will find out later that whether the animal is named has an effect on its outcome.)  The many missing OutcomeSubtype values should also not matter since we are only trying to predict the OutcomeType.  Finally, there is only one missing value for SexuponOutcome and 18 missing values for AgeuponOutcome.  We use the mean age for missing AgeuponOutcome values."
   ]
  },
  {
   "cell_type": "markdown",
   "metadata": {},
   "source": [
    "### Exploratory Visualization"
   ]
  },
  {
   "cell_type": "code",
   "execution_count": 28,
   "metadata": {
    "collapsed": false
   },
   "outputs": [
    {
     "data": {
      "text/plain": [
       "<matplotlib.axes._subplots.AxesSubplot at 0x116c88b50>"
      ]
     },
     "execution_count": 28,
     "metadata": {},
     "output_type": "execute_result"
    },
    {
     "data": {
      "image/png": "[encoded data removed]",
      "text/plain": [
       "<matplotlib.figure.Figure at 0x116dd7950>"
      ]
     },
     "metadata": {},
     "output_type": "display_data"
    }
   ],
   "source": [
    "import numpy as np\n",
    "import matplotlib.pyplot as plt\n",
    "\n",
    "value_counts = data['OutcomeType'].value_counts()\n",
    "value_counts.plot(kind='bar')"
   ]
  },
  {
   "cell_type": "code",
   "execution_count": 7,
   "metadata": {
    "collapsed": false
   },
   "outputs": [
    {
     "data": {
      "text/plain": [
       "<matplotlib.axes._subplots.AxesSubplot at 0x111dc0610>"
      ]
     },
     "execution_count": 7,
     "metadata": {},
     "output_type": "execute_result"
    },
    {
     "data": {
      "image/png": "[encoded data removed]",
      "text/plain": [
       "<matplotlib.figure.Figure at 0x1116e1c90>"
      ]
     },
     "metadata": {},
     "output_type": "display_data"
    }
   ],
   "source": [
    "dog = data['AnimalType'] == \"Dog\"\n",
    "black = data['Color'] == \"Black\"\n",
    "black_dogs = data[black & dog]\n",
    "black_dogs['OutcomeType'].value_counts().plot(kind='bar')"
   ]
  },
  {
   "cell_type": "markdown",
   "metadata": {},
   "source": [
    "### Algorithms and Techniques\n",
    "I used a wide variety of classification algorithms.  I got this list of algorithms from [Classifier comparison]\n",
    "(http://scikit-learn.org/stable/auto_examples/classification/plot_classifier_comparison.html).  Here is the log-loss performance of the algorithms:\n",
    "\n",
    "<table>\n",
    "  <caption>Log-loss performance</caption>\n",
    "  <tr>\n",
    "    <th>Algorithm</th>\n",
    "    <th>Cat</th> \n",
    "    <th>Dog</th>\n",
    "  </tr>\n",
    "  <tr>\n",
    "    <td>Nearest Neighbors</td>\n",
    "    <td>1.66271</td> \n",
    "    <td>1.29723</td>\n",
    "  </tr>\n",
    "  <tr>\n",
    "    <td>Decision Tree</td>\n",
    "    <td>0.76244</td> \n",
    "    <td>1.16388</td>\n",
    "  </tr>\n",
    "  <tr>\n",
    "    <td>*Random Forest*</td>\n",
    "    <td>*0.57658*</td> \n",
    "    <td>*0.95536*</td>\n",
    "  </tr>\n",
    "  <tr>\n",
    "    <td>AdaBoost</td>\n",
    "    <td>1.52599</td> \n",
    "    <td>1.56269</td>\n",
    "  </tr>\n",
    "  <tr>\n",
    "    <td>Naive Bayes</td>\n",
    "    <td>1.95993</td> \n",
    "    <td>2.32285</td>\n",
    "  </tr>\n",
    "  <tr>\n",
    "    <td>Linear Discriminant Analysis</td>\n",
    "    <td>0.71434</td> \n",
    "    <td>1.00974</td>\n",
    "  </tr>\n",
    "  <tr>\n",
    "    <td>Quadratic Discriminant Analysis</td>\n",
    "    <td>1.78311</td> \n",
    "    <td>2.30627</td>\n",
    "  </tr>\n",
    "  <tr>\n",
    "    <td>Linear SVM</td>\n",
    "    <td>0.74214</td> \n",
    "    <td>1.02569</td>\n",
    "  </tr>\n",
    "  <tr>\n",
    "    <td>RBF SVM</td>\n",
    "    <td>0.67900</td> \n",
    "    <td>1.01030</td>\n",
    "  </tr>\n",
    "</table>\n",
    "\n",
    "The code for generating these scores is in [`scripts.classifier_comparison`](https://github.com/paul-reiners/kaggle-shelter-animal-outcomes/blob/master/src/scripts/classifier_comparison.py).  As you can see, random forests performed best for both cats and dogs.\n",
    "\n",
    "For my random forest implementation, I used `sklearn.ensemble.RandomForestClassifier` with the following parameters:\n",
    "\n",
    "* Cat: {'n_estimators': 160, 'criterion': 'gini', 'max_depth': 10}\n",
    "* Dog: {'n_estimators': 160, 'criterion': 'gini', 'max_depth': 7}\n",
    "\n",
    "To find these parameters, I used `sklearn.grid_search.GridSearchCV`.\n",
    "\n",
    "My random forest code can be found in \n",
    "[`core.learning.classifiers.random_forest_predictor`](https://github.com/paul-reiners/kaggle-shelter-animal-outcomes/blob/master/src/core/learning/classifiers/random_forest_predictor.py).\n",
    "\n",
    "### Benchmark\n",
    "The benchmark was provided by the Kaggle contest.  Is is the score obtained when predicting that all animals in the test set are adopted.\n",
    "![benchmark](https://raw.githubusercontent.com/paul-reiners/kaggle-shelter-animal-outcomes/master/img/benchmark.tiff?token=ABcpq_lnHcFWJawl5E6X5rVMl4AeRaNzks5XNME4wA%3D%3D \"Benchmark\")\n",
    "\n",
    "## Methodology\n",
    "### Data Preprocessing\n",
    "#### Name field\n",
    "I hypothesized that the name of the animal didn't matter (although I didn't actually check this hypothesis out).  However it turned out that whether the animal was named did matter.  Animals that were not named were most likely to be transferred, while animals that were named were most likely to be adopted.  Thus I added a feature called *IsNamed* and dropped the *Name* feature.\n",
    "\n",
    "#### DateTime field\n",
    "I split this into four fields:\n",
    "* Month\n",
    "* Day of week\n",
    "* Hour of day\n",
    "\n",
    "This came in handy since I was able to create new predictive features such as *IsWeekend* and *IsSpring*.  Further, the outcome depended on the hour of day.\n",
    "\n",
    "#### SexuponOutcome field\n",
    "This is an overloaded field that I broke up into two new features:\n",
    "* *Sex*\n",
    "* *IsIntact* (the complement of 'is spayed/neutered')\n",
    "\n",
    "#### AgeuponOutcome field\n",
    "I converted all of these to days and scaled it using `sklearn.preprocessing.MinMaxScaler`.\n",
    "\n",
    "#### Breed field\n",
    "This is a categorical variable.  I used one-hot encoding to break this up into numeric features.  In particular, I used the `get_dummies` method implemented in pandas.\n",
    "\n",
    "For cats, I pretty much left this field alone, although I did create the following features:\n",
    "* *Domestic Longhair*\n",
    "* *Domestic Shorthair*\n",
    "\n",
    "For dogs, the breed field was more useful.  First I created features for \n",
    "[types of dogs](http://www.akc.org/dog-breeds/groups/):\n",
    "* *Sporting Group*\n",
    "* *Toy Group* \n",
    "* *Herding Group* \n",
    "* *Hound Group*\n",
    "* *Non-Sporting Group* \n",
    "* *Terrier Group* \n",
    "* *Working Group*\n",
    "\n",
    "Finally, I created these new dog features:\n",
    "* *IsPitBull*\n",
    "* [*IsDangerous*](https://lifestyle9.org/top-10-most-dangerous-dog-breeds-that-you-should-stay-away-from/)\n",
    "* [*IsDoodleDog*](http://patch.com/massachusetts/holliston-hopkinton/what-is-a-doodle-dog)\n",
    "\n",
    "#### Color field\n",
    "This is also a categorical field which I used one-hot encoding on.\n",
    "\n",
    "For both dogs and cats, I created an *IsBlack* feature.\n",
    "\n",
    "My data preprocessing code can be found in \n",
    "[core.preprocessing.feature_extraction_scaling](https://github.com/paul-reiners/kaggle-shelter-animal-outcomes/blob/master/src/core/preprocessing/feature_extraction_scaling.py)\n",
    "\n",
    "#### Feature selection\n",
    "To select the features to be used in my models, I used a combination of data exploration, intuition, and, later in the process, `sklearn.feature_selection.SelectKBest`.  I found the following features to be the best in predicting outcomes:\n",
    "\n",
    "* Cats and dogs both\n",
    " - *AgeuponOutcome*\n",
    " - *IsWeekend*\n",
    " - *IsEightAM*\n",
    " - *IsNineAM*\n",
    " - *IsTenAM*\n",
    " - *IsFivePM*\n",
    " - *IsSixPM*\n",
    " - *IsNamed*\n",
    " - *IsIntact*\n",
    "* Cats only\n",
    " - *IsSpring*\n",
    "* Dogs only\n",
    " - *IsDangerous*\n",
    " \n",
    "My feature selection code is in [`scripts.select_features`](https://github.com/paul-reiners/kaggle-shelter-animal-outcomes/blob/master/src/scripts/select_features.py).\n",
    "\n",
    "### Implementation\n",
    "There were several steps in my process of creating a Kaggle submission:\n",
    "1. [Select features.](https://github.com/paul-reiners/kaggle-shelter-animal-outcomes/blob/master/src/scripts/select_features.py)\n",
    "2. [Compare classifiers to select best model types.](https://github.com/paul-reiners/kaggle-shelter-animal-outcomes/blob/master/src/scripts/classifier_comparison.py)\n",
    "3. Optimize parameters for models.  (See `find_best_params` method implementations in [core.learning.classifiers](https://github.com/paul-reiners/kaggle-shelter-animal-outcomes/tree/master/src/core/learning/classifiers) classes.)\n",
    "4. [Test the optimized models on the training data.](https://github.com/paul-reiners/kaggle-shelter-animal-outcomes/blob/master/src/scripts/create_submission.py)  \n",
    "5. If the models work better than my best submission so far, run the models on the test data and submit the results.\n",
    "\n",
    "In order to know whether my models had improved without making a Kaggle submission, I tested them with a [log-loss method I implemented](https://github.com/paul-reiners/kaggle-shelter-animal-outcomes/blob/master/src/core/learning/performance_metrics.py).\n",
    "\n",
    "### Refinement\n",
    "The table below shows how I refined my submissions over time.  The percent field indicates the 'top percent' my submission is in.  For example, 35 means that my submission was in the top 35% on the leader board:\n",
    "\n",
    "    Best scores:\n",
    "        Date        Type                       MyLLScore  KaggleLLScore  Percent  Submission Tag\n",
    "        ========================================================================================\n",
    "        04/27/2016  BaseLinePredictor          20.61577        20.25113           Submission00\n",
    "        04/27/2016  NearestNeighborsPredictor  14.37823        13.94696           Submission01\n",
    "        04/27/2016  NearestNeighborsPredictor   5.07153         5.20698           Submission02\n",
    "        04/28/2016  NearestNeighborsPredictor   3.70919         3.59477       81  Submission03\n",
    "        04/28/2016  NearestNeighborsPredictor   1.00052         1.00036       66  Submission04\n",
    "        04/28/2016  DecisionTreePredictor       0.94061         0.90950       59  Submission05\n",
    "        04/29/2016  DecisionTreePredictor       0.92471         0.90939       58  Submission06\n",
    "        04/29/2016  RandomForestPredictor       0.88390         0.86738       50  Submission07\n",
    "        04/29/2016  RandomForestPredictor       0.85608         0.84534       47  Submission08\n",
    "        04/29/2016  RandomForestPredictor       0.82221         0.84454       46  Submission09\n",
    "        05/03/2016  RandomForestPredictor       0.81721         0.81486       40  Submission10\n",
    "        05/04/2016  RandomForestPredictor       0.79887         0.79934       35  Submission11\n",
    "        05/04/2016  RandomForestPredictor       0.79229         0.79204       34  Submission12\n",
    "        05/04/2016  RandomForestPredictor       0.79955         0.79167       35  Submission13\n",
    "\n",
    "    Submission05: Started using DecisionTreeClassifier(max_depth=6).\n",
    "    Submission06: Broke down SexuponOutcome into IsIntact and IsMale.\n",
    "    Submission07: Started using SelectKBest.\n",
    "    Submission08: Started using GridSearchCV on RandomForestPredictor.\n",
    "    Submission09: Set n_estimators on RandomForestClassifier.\n",
    "    Submission10: Started using hour of the day as a feature.\n",
    "    Submission11: Added IsFivePM and IsSixPM features.\n",
    "    Submission12: Added IsThreePM feature.\n",
    "    Submission13: Retrain on *all* the training data.\n",
    "\n",
    "(Unfortunately, I didn't record how I improved things on my first four submissions.)\n",
    "\n",
    "## Results\n",
    "### Model Evaluation and Validation\n",
    "Random forest models (one for cats and one for dogs) worked best.  On the training data, the log-loss value was 0.79955.  On the unseen Kaggle test data, the log-loss value was 0.79167.  Since the latter value is less than the former, no over-fitting occurred and the model is robust.\n",
    "\n",
    "### Justification\n",
    "My log-loss value of 0.79167 beats the benchmark value of 20.25113 by a factor of about 26.  This is a significant improvement.  However there are teams on the [leader board](https://www.kaggle.com/c/shelter-animal-outcomes/leaderboard) that have done better.  At the time of writing, the leader has a log-loss score of 0.45175.  Now it's possible that some of the higher entries on the leader board are over-fitting, but it's impossible to know.\n",
    "\n",
    "I can't say for certain that I've actually solved this problem.  However I am pleased with the fact that the significant features I found \"make sense\".  For example, it's intuitively clear that people probably do tend to adopt more kittens in the spring.\n",
    "\n",
    "One problem with this competition, in my opinion, is the *DateTime* field.  It is possible to make predictions on the outcome based on the date and time of the outcome.  *However, this is an after-the-fact prediction and does not give any insight into the eventual outcome of an animal.*  For example, adoptions tend to occur on weekends and the evenings, but that doesn't give you any predictive ability regarding an animal's fate ahead of time.  I would say that this is data leakage.\n",
    "\n",
    "## Conclusion\n",
    "### Free-Form Visualization\n",
    "The primary factor affecting the outcome of an animal is its age.  Let's see how the various outcomes change depending on age."
   ]
  },
  {
   "cell_type": "code",
   "execution_count": 122,
   "metadata": {
    "collapsed": false
   },
   "outputs": [
    {
     "data": {
      "text/plain": [
       "<matplotlib.figure.Figure at 0x11e783850>"
      ]
     },
     "metadata": {},
     "output_type": "display_data"
    }
   ],
   "source": [
    "from core.preprocessing.feature_extraction_scaling import preprocess_age\n",
    "\n",
    "plt.figure();"
   ]
  },
  {
   "cell_type": "code",
   "execution_count": 133,
   "metadata": {
    "collapsed": true
   },
   "outputs": [],
   "source": [
    "train_data['AgeuponOutcome'] = train_data['AgeuponOutcome'].apply(preprocess_age)"
   ]
  },
  {
   "cell_type": "code",
   "execution_count": 166,
   "metadata": {
    "collapsed": false
   },
   "outputs": [
    {
     "data": {
      "text/plain": [
       "<matplotlib.text.Text at 0x12256dbd0>"
      ]
     },
     "execution_count": 166,
     "metadata": {},
     "output_type": "execute_result"
    },
    {
     "data": {
      "image/png": "[encoded data removed]",
      "text/plain": [
       "<matplotlib.figure.Figure at 0x1223e6950>"
      ]
     },
     "metadata": {},
     "output_type": "display_data"
    }
   ],
   "source": [
    "outcome_type_dict = {}\n",
    "for outcome_type in train_data['OutcomeType'].unique():\n",
    "    group = train_data.loc[train_data['OutcomeType'] == outcome_type]\n",
    "    counts = group['AgeuponOutcome'].value_counts(normalize=True).sort_index()\n",
    "    outcome_type_dict[outcome_type] = counts\n",
    "\n",
    "outcomes_df = pd.DataFrame(outcome_type_dict)\n",
    "outcomes_df.plot(kind='line')\n",
    "plt.xlabel(\"Age (in days)\")\n",
    "plt.ylabel(\"Likelihood\")\n",
    "plt.title(\"Outcome related to age\")"
   ]
  },
  {
   "cell_type": "markdown",
   "metadata": {},
   "source": [
    "From the plot we can see that the most common outcome is to be returned to owner up to the age of about 8 to 11 years (3000 to 4000 days).  After the age of 11 years, though, the most common outcome is euthanasia.\n",
    "\n",
    "Let's use a logarithmic scale for the age:"
   ]
  },
  {
   "cell_type": "code",
   "execution_count": 167,
   "metadata": {
    "collapsed": false
   },
   "outputs": [
    {
     "data": {
      "text/plain": [
       "<matplotlib.text.Text at 0x1220f5310>"
      ]
     },
     "execution_count": 167,
     "metadata": {},
     "output_type": "execute_result"
    },
    {
     "data": {
      "image/png": "[encoded data removed]",
      "text/plain": [
       "<matplotlib.figure.Figure at 0x12219c350>"
      ]
     },
     "metadata": {},
     "output_type": "display_data"
    }
   ],
   "source": [
    "outcomes_df.plot(kind='line', logx=True)\n",
    "plt.xlabel(\"Age (in days)\")\n",
    "plt.ylabel(\"Likelihood\")\n",
    "plt.title(\"Outcome related to age\")"
   ]
  },
  {
   "cell_type": "markdown",
   "metadata": {},
   "source": [
    "Here we can see that the most likely outcome for young animals (those more than 10 days old and less than 100 days old) is adoption.  Very young animals (those less than 10 days old) have a most likely outcome of death.\n",
    "\n",
    "### Reflection\n",
    "I learned some interesting things from this analysis.  The outcome of cats is seasonal, while the outcome of dogs is basically not seasonal.  It looks like people adopt kittens during the spring-time and around Christmas.  On the other hand, the outcome of dogs is much more dependent on their breed than it is for cats.  This mainly is because of the danger of some breeds of dogs.\n",
    "\n",
    "Another very interesting finding is that it is easier to predict the outcome of cats than it is dogs.  As mentioned earlier, using random forests for both cats and dogs, the log-loss is 0.57658 for cats and 0.95536 for dogs.  This is despite the fact that I spent more time looking for good predictive dog features than I did for cat features.  I have an hypothesis about this, but no actual data to back it up.  Obviously the behavior and temperament of an animal at the shelter will have a significant effect on the animal's outcome.  And I believe that there is more variability of the behavior of dogs in shelters than in cats.  Further this behavior variability is not captured in the data.  To give an example, a dog might run up to you in the shelter, making it more likely that you would adopt him or her.  However, good luck in getting a strange cat to run up to you.  Anyway, this is my hypothesis---I don't insist on it.  Take it or leave it.  It would be interesting to do more data gathering and research on this question.\n",
    "\n",
    "### Improvement\n",
    "While I was nearing the end of this project, I started reading an interesting, informative book, \n",
    "[*Python Machine Learning*](https://www.packtpub.com/big-data-and-business-intelligence/python-machine-learning)\n",
    "by [Sebastian Raschka](http://sebastianraschka.com).  I found some ideas in there that I would have liked to implement.  In particular, I would have liked to have stream-lined my workflow with Pipelines.  There was no reason why I should have to run three or four scripts in succession to come up with results.  This could have all been automated with one script.\n",
    "\n",
    "Trying to climb a Kaggle leader board is quite addictive (very addictive, actually) and can turn into a game of diminishing returns (if I can only decrease my log-loss by 0.00014, I'll move up another slot on the leader board!).  Nevertheless, the Kaggle contest still has two months to go and I plan on continuing to improve my solution during that time."
   ]
  }
 ],
 "metadata": {
  "kernelspec": {
   "display_name": "Python 2",
   "language": "python",
   "name": "python2"
  },
  "language_info": {
   "codemirror_mode": {
    "name": "ipython",
    "version": 2
   },
   "file_extension": ".py",
   "mimetype": "text/x-python",
   "name": "python",
   "nbconvert_exporter": "python",
   "pygments_lexer": "ipython2",
   "version": "2.7.11"
  }
 },
 "nbformat": 4,
 "nbformat_minor": 0
}
