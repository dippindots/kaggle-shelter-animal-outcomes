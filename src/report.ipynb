{
 "cells": [
  {
   "cell_type": "markdown",
   "metadata": {},
   "source": [
    "# Capstone Project\n",
    "## Definition\n",
    "### Project Overview\n",
    "My project is my code for the [Kaggle Shelter Animal Outcomes contest](https://www.kaggle.com/c/shelter-animal-outcomes).  As described on the Kaggle site:\n",
    ">Every year, approximately 7.6 million companion animals end up in US shelters. Many animals are given up as unwanted by their owners, while others are picked up after getting lost or taken out of cruelty situations. Many of these animals find forever families to take them home, but just as many are not so lucky. 2.7 million dogs and cats are euthanized in the US every year.\n",
    "\n",
    "### Problem Statement\n",
    "As described on the Kaggle site:\n",
    ">Using a dataset of intake information including breed, color, sex, and age from the \n",
    "> [Austin Animal Center](http://www.austintexas.gov/department/animal-services), \n",
    "> we're asking Kagglers to predict the outcome for each animal.\n",
    "\n",
    "### Metrics\n",
    "> <p>Submissions are evaluated using the <a href=\"https://www.kaggle.com/wiki/MultiClassLogLoss\">multi-class logarithmic loss</a>. Each incident has been labeled with one true class. For each animal, you must submit a set of predicted probabilities (one for every class). The formula is then,</p>\n",
    "> <p>$$log loss = -\\frac{1}{N}\\sum_{i=1}^N\\sum_{j=1}^My_{ij}\\log(p_{ij}),$$</p>\n",
    "> <p>where N is the number of animals in the test set, M is the number of outcomes, \\\\(log\\\\) is the natural logarithm, \\\\(y_{ij}\\\\) is 1 if observation \\\\(i\\\\) is in outcome \\\\(j\\\\) and 0 otherwise, and \\\\(p_{ij}\\\\) is the predicted probability that observation \\\\(i\\\\) belongs to outcome \\\\(j\\\\).</p>\n",
    "> <p>The submitted probabilities for a given animal are not required to sum to one because they are rescaled prior to being scored (each row is divided by the row sum). In order to avoid the extremes of the log function, predicted probabilities are replaced with \\\\(max(min(p,1-10^{-15}),10^{-15})\\\\).</p>\n",
    "\n",
    "\n",
    "## Analysis\n",
    "## Methodology\n",
    "## Results\n",
    "## Conclusion"
   ]
  }
 ],
 "metadata": {
  "kernelspec": {
   "display_name": "Python 2",
   "language": "python",
   "name": "python2"
  },
  "language_info": {
   "codemirror_mode": {
    "name": "ipython",
    "version": 2
   },
   "file_extension": ".py",
   "mimetype": "text/x-python",
   "name": "python",
   "nbconvert_exporter": "python",
   "pygments_lexer": "ipython2",
   "version": "2.7.11"
  }
 },
 "nbformat": 4,
 "nbformat_minor": 0
}
