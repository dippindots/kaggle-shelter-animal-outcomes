{
 "cells": [
  {
   "cell_type": "markdown",
   "metadata": {},
   "source": [
    "# Capstone Project\n",
    "## Definition\n",
    "### Project Overview\n",
    "My project is my code for the [Kaggle Shelter Animal Outcomes contest](https://www.kaggle.com/c/shelter-animal-outcomes).  As described on Kaggle:\n",
    ">Every year, approximately 7.6 million companion animals end up in US shelters. Many animals are given up as unwanted by their owners, while others are picked up after getting lost or taken out of cruelty situations. Many of these animals find forever families to take them home, but just as many are not so lucky. 2.7 million dogs and cats are euthanized in the US every year.\n",
    "\n",
    "### Problem Statement\n",
    "As described on Kaggle:\n",
    ">Using a dataset of intake information including breed, color, sex, and age from the \n",
    "> [Austin Animal Center](http://www.austintexas.gov/department/animal-services), \n",
    "> we're asking Kagglers to predict the outcome for each animal.\n",
    "\n",
    "### Metrics\n",
    "As described on Kaggle:\n",
    "> <p>Submissions are evaluated using the <a href=\"https://www.kaggle.com/wiki/MultiClassLogLoss\">multi-class logarithmic loss</a>. Each incident has been labeled with one true class. For each animal, you must submit a set of predicted probabilities (one for every class). The formula is then,</p>\n",
    "> <p>$$log loss = -\\frac{1}{N}\\sum_{i=1}^N\\sum_{j=1}^My_{ij}\\log(p_{ij}),$$</p>\n",
    "> <p>where N is the number of animals in the test set, M is the number of outcomes, \\\\(log\\\\) is the natural logarithm, \\\\(y_{ij}\\\\) is 1 if observation \\\\(i\\\\) is in outcome \\\\(j\\\\) and 0 otherwise, and $p_{ij}$ is the predicted probability that observation \\\\(i\\\\) belongs to outcome \\\\(j\\\\).</p>\n",
    "> <p>The submitted probabilities for a given animal are not required to sum to one because they are rescaled prior to being scored (each row is divided by the row sum). In order to avoid the extremes of the log function, predicted probabilities are replaced with \\\\(max(min(p,1-10^{-15}),10^{-15})\\\\).</p>\n",
    "\n",
    "\n",
    "## Analysis\n",
    "### Data Exploration"
   ]
  },
  {
   "cell_type": "code",
   "execution_count": 36,
   "metadata": {
    "collapsed": false
   },
   "outputs": [
    {
     "data": {
      "text/html": [
       "<div>\n",
       "<table border=\"1\" class=\"dataframe\">\n",
       "  <thead>\n",
       "    <tr style=\"text-align: right;\">\n",
       "      <th></th>\n",
       "      <th>AnimalID</th>\n",
       "      <th>Name</th>\n",
       "      <th>DateTime</th>\n",
       "      <th>OutcomeType</th>\n",
       "      <th>OutcomeSubtype</th>\n",
       "      <th>AnimalType</th>\n",
       "      <th>SexuponOutcome</th>\n",
       "      <th>AgeuponOutcome</th>\n",
       "      <th>Breed</th>\n",
       "      <th>Color</th>\n",
       "    </tr>\n",
       "  </thead>\n",
       "  <tbody>\n",
       "    <tr>\n",
       "      <th>0</th>\n",
       "      <td>A671945</td>\n",
       "      <td>Hambone</td>\n",
       "      <td>2014-02-12 18:22:00</td>\n",
       "      <td>Return_to_owner</td>\n",
       "      <td>NaN</td>\n",
       "      <td>Dog</td>\n",
       "      <td>Neutered Male</td>\n",
       "      <td>1 year</td>\n",
       "      <td>Shetland Sheepdog Mix</td>\n",
       "      <td>Brown/White</td>\n",
       "    </tr>\n",
       "    <tr>\n",
       "      <th>1</th>\n",
       "      <td>A656520</td>\n",
       "      <td>Emily</td>\n",
       "      <td>2013-10-13 12:44:00</td>\n",
       "      <td>Euthanasia</td>\n",
       "      <td>Suffering</td>\n",
       "      <td>Cat</td>\n",
       "      <td>Spayed Female</td>\n",
       "      <td>1 year</td>\n",
       "      <td>Domestic Shorthair Mix</td>\n",
       "      <td>Cream Tabby</td>\n",
       "    </tr>\n",
       "    <tr>\n",
       "      <th>2</th>\n",
       "      <td>A686464</td>\n",
       "      <td>Pearce</td>\n",
       "      <td>2015-01-31 12:28:00</td>\n",
       "      <td>Adoption</td>\n",
       "      <td>Foster</td>\n",
       "      <td>Dog</td>\n",
       "      <td>Neutered Male</td>\n",
       "      <td>2 years</td>\n",
       "      <td>Pit Bull Mix</td>\n",
       "      <td>Blue/White</td>\n",
       "    </tr>\n",
       "    <tr>\n",
       "      <th>3</th>\n",
       "      <td>A683430</td>\n",
       "      <td>NaN</td>\n",
       "      <td>2014-07-11 19:09:00</td>\n",
       "      <td>Transfer</td>\n",
       "      <td>Partner</td>\n",
       "      <td>Cat</td>\n",
       "      <td>Intact Male</td>\n",
       "      <td>3 weeks</td>\n",
       "      <td>Domestic Shorthair Mix</td>\n",
       "      <td>Blue Cream</td>\n",
       "    </tr>\n",
       "    <tr>\n",
       "      <th>4</th>\n",
       "      <td>A667013</td>\n",
       "      <td>NaN</td>\n",
       "      <td>2013-11-15 12:52:00</td>\n",
       "      <td>Transfer</td>\n",
       "      <td>Partner</td>\n",
       "      <td>Dog</td>\n",
       "      <td>Neutered Male</td>\n",
       "      <td>2 years</td>\n",
       "      <td>Lhasa Apso/Miniature Poodle</td>\n",
       "      <td>Tan</td>\n",
       "    </tr>\n",
       "  </tbody>\n",
       "</table>\n",
       "</div>"
      ],
      "text/plain": [
       "  AnimalID     Name            DateTime      OutcomeType OutcomeSubtype  \\\n",
       "0  A671945  Hambone 2014-02-12 18:22:00  Return_to_owner            NaN   \n",
       "1  A656520    Emily 2013-10-13 12:44:00       Euthanasia      Suffering   \n",
       "2  A686464   Pearce 2015-01-31 12:28:00         Adoption         Foster   \n",
       "3  A683430      NaN 2014-07-11 19:09:00         Transfer        Partner   \n",
       "4  A667013      NaN 2013-11-15 12:52:00         Transfer        Partner   \n",
       "\n",
       "  AnimalType SexuponOutcome AgeuponOutcome                        Breed  \\\n",
       "0        Dog  Neutered Male         1 year        Shetland Sheepdog Mix   \n",
       "1        Cat  Spayed Female         1 year       Domestic Shorthair Mix   \n",
       "2        Dog  Neutered Male        2 years                 Pit Bull Mix   \n",
       "3        Cat    Intact Male        3 weeks       Domestic Shorthair Mix   \n",
       "4        Dog  Neutered Male        2 years  Lhasa Apso/Miniature Poodle   \n",
       "\n",
       "         Color  \n",
       "0  Brown/White  \n",
       "1  Cream Tabby  \n",
       "2   Blue/White  \n",
       "3   Blue Cream  \n",
       "4          Tan  "
      ]
     },
     "execution_count": 36,
     "metadata": {},
     "output_type": "execute_result"
    }
   ],
   "source": [
    "%matplotlib inline\n",
    "import pandas as pd \n",
    "\n",
    "data = pd.read_csv('../data/train.csv', parse_dates=['DateTime'])\n",
    "data.head()"
   ]
  },
  {
   "cell_type": "code",
   "execution_count": 12,
   "metadata": {
    "collapsed": false
   },
   "outputs": [
    {
     "name": "stdout",
     "output_type": "stream",
     "text": [
      "<class 'pandas.core.frame.DataFrame'>\n",
      "RangeIndex: 26729 entries, 0 to 26728\n",
      "Data columns (total 10 columns):\n",
      "AnimalID          26729 non-null object\n",
      "Name              19038 non-null object\n",
      "DateTime          26729 non-null object\n",
      "OutcomeType       26729 non-null object\n",
      "OutcomeSubtype    13117 non-null object\n",
      "AnimalType        26729 non-null object\n",
      "SexuponOutcome    26728 non-null object\n",
      "AgeuponOutcome    26711 non-null object\n",
      "Breed             26729 non-null object\n",
      "Color             26729 non-null object\n",
      "dtypes: object(10)\n",
      "memory usage: 2.0+ MB\n"
     ]
    }
   ],
   "source": [
    "data.info()"
   ]
  },
  {
   "cell_type": "markdown",
   "metadata": {},
   "source": [
    "From the data info, we can see that many of the animals have missing names.  This should not matter since it is unlikely that an animal's outcome would depend on its name.  The many mission OutcomeSubtype values should also not matter since we are only trying to predict the OutcomeType.  Finally, there is only one missing value for SexuponOutcome and 18 missing values for AgeuponOutcome.  We can probably drop these rows when training as there are so few."
   ]
  },
  {
   "cell_type": "markdown",
   "metadata": {},
   "source": [
    "### Exploratory Visualization"
   ]
  },
  {
   "cell_type": "code",
   "execution_count": 28,
   "metadata": {
    "collapsed": false
   },
   "outputs": [
    {
     "data": {
      "text/plain": [
       "<matplotlib.axes._subplots.AxesSubplot at 0x116c88b50>"
      ]
     },
     "execution_count": 28,
     "metadata": {},
     "output_type": "execute_result"
    },
    {
     "data": {
      "image/png": "[encoded data removed]",
      "text/plain": [
       "<matplotlib.figure.Figure at 0x116dd7950>"
      ]
     },
     "metadata": {},
     "output_type": "display_data"
    }
   ],
   "source": [
    "import numpy as np\n",
    "import matplotlib.pyplot as plt\n",
    "\n",
    "value_counts = data['OutcomeType'].value_counts()\n",
    "value_counts.plot(kind='bar')"
   ]
  },
  {
   "cell_type": "code",
   "execution_count": 7,
   "metadata": {
    "collapsed": false
   },
   "outputs": [
    {
     "data": {
      "text/plain": [
       "<matplotlib.axes._subplots.AxesSubplot at 0x111dc0610>"
      ]
     },
     "execution_count": 7,
     "metadata": {},
     "output_type": "execute_result"
    },
    {
     "data": {
      "image/png": "[encoded data removed]",
      "text/plain": [
       "<matplotlib.figure.Figure at 0x1116e1c90>"
      ]
     },
     "metadata": {},
     "output_type": "display_data"
    }
   ],
   "source": [
    "dog = data['AnimalType'] == \"Dog\"\n",
    "black = data['Color'] == \"Black\"\n",
    "black_dogs = data[black & dog]\n",
    "black_dogs['OutcomeType'].value_counts().plot(kind='bar')"
   ]
  },
  {
   "cell_type": "code",
   "execution_count": 31,
   "metadata": {
    "collapsed": false
   },
   "outputs": [
    {
     "data": {
      "text/plain": [
       "<matplotlib.axes._subplots.AxesSubplot at 0x117f37250>"
      ]
     },
     "execution_count": 31,
     "metadata": {},
     "output_type": "execute_result"
    },
    {
     "data": {
      "image/png": "[encoded data removed]",
      "text/plain": [
       "<matplotlib.figure.Figure at 0x117f22dd0>"
      ]
     },
     "metadata": {},
     "output_type": "display_data"
    }
   ],
   "source": [
    "has_name = data['Name'].notnull()\n",
    "named = data[has_name]\n",
    "named['OutcomeType'].value_counts().plot(kind='bar')"
   ]
  },
  {
   "cell_type": "code",
   "execution_count": 34,
   "metadata": {
    "collapsed": false
   },
   "outputs": [
    {
     "data": {
      "text/plain": [
       "<matplotlib.axes._subplots.AxesSubplot at 0x117f4c6d0>"
      ]
     },
     "execution_count": 34,
     "metadata": {},
     "output_type": "execute_result"
    },
    {
     "data": {
      "image/png": "[encoded data removed]",
      "text/plain": [
       "<matplotlib.figure.Figure at 0x117f563d0>"
      ]
     },
     "metadata": {},
     "output_type": "display_data"
    }
   ],
   "source": [
    "no_name = data['Name'].isnull()\n",
    "un_named = data[no_name]\n",
    "un_named['OutcomeType'].value_counts().plot(kind='bar')"
   ]
  },
  {
   "cell_type": "code",
   "execution_count": 40,
   "metadata": {
    "collapsed": false
   },
   "outputs": [
    {
     "data": {
      "text/plain": [
       "<matplotlib.axes._subplots.AxesSubplot at 0x117ad2c10>"
      ]
     },
     "execution_count": 40,
     "metadata": {},
     "output_type": "execute_result"
    },
    {
     "data": {
      "image/png": "[encoded data removed]",
      "text/plain": [
       "<matplotlib.figure.Figure at 0x116e9e150>"
      ]
     },
     "metadata": {},
     "output_type": "display_data"
    }
   ],
   "source": [
    "from util import get_month\n",
    "data['Month'] = data['DateTime'].apply(get_month)\n",
    "jan = data[data['Month'] == 1]\n",
    "jan['OutcomeType'].value_counts().plot(kind='bar')"
   ]
  },
  {
   "cell_type": "code",
   "execution_count": 41,
   "metadata": {
    "collapsed": false
   },
   "outputs": [
    {
     "data": {
      "text/plain": [
       "<matplotlib.axes._subplots.AxesSubplot at 0x116d73050>"
      ]
     },
     "execution_count": 41,
     "metadata": {},
     "output_type": "execute_result"
    },
    {
     "data": {
      "image/png": "[encoded data removed]",
      "text/plain": [
       "<matplotlib.figure.Figure at 0x11bc1b350>"
      ]
     },
     "metadata": {},
     "output_type": "display_data"
    }
   ],
   "source": [
    "apr = data[data['Month'] == 4]\n",
    "apr['OutcomeType'].value_counts().plot(kind='bar')"
   ]
  },
  {
   "cell_type": "code",
   "execution_count": 42,
   "metadata": {
    "collapsed": false
   },
   "outputs": [
    {
     "data": {
      "text/plain": [
       "array(['Dog', 'Cat'], dtype=object)"
      ]
     },
     "execution_count": 42,
     "metadata": {},
     "output_type": "execute_result"
    }
   ],
   "source": [
    "data['AnimalType'].unique()"
   ]
  },
  {
   "cell_type": "code",
   "execution_count": 43,
   "metadata": {
    "collapsed": false
   },
   "outputs": [
    {
     "data": {
      "text/plain": [
       "array(['Neutered Male', 'Spayed Female', 'Intact Male', 'Intact Female',\n",
       "       'Unknown', nan], dtype=object)"
      ]
     },
     "execution_count": 43,
     "metadata": {},
     "output_type": "execute_result"
    }
   ],
   "source": [
    "data['SexuponOutcome'].unique()"
   ]
  },
  {
   "cell_type": "code",
   "execution_count": 44,
   "metadata": {
    "collapsed": false
   },
   "outputs": [
    {
     "data": {
      "text/plain": [
       "array(['1 year', '2 years', '3 weeks', '1 month', '5 months', '4 years',\n",
       "       '3 months', '2 weeks', '2 months', '10 months', '6 months',\n",
       "       '5 years', '7 years', '3 years', '4 months', '12 years', '9 years',\n",
       "       '6 years', '1 weeks', '11 years', '4 weeks', '7 months', '8 years',\n",
       "       '11 months', '4 days', '9 months', '8 months', '15 years',\n",
       "       '10 years', '1 week', '0 years', '14 years', '3 days', '6 days',\n",
       "       '5 days', '5 weeks', '2 days', '16 years', '1 day', '13 years', nan,\n",
       "       '17 years', '18 years', '19 years', '20 years'], dtype=object)"
      ]
     },
     "execution_count": 44,
     "metadata": {},
     "output_type": "execute_result"
    }
   ],
   "source": [
    "data['AgeuponOutcome'].unique()"
   ]
  },
  {
   "cell_type": "code",
   "execution_count": 88,
   "metadata": {
    "collapsed": false
   },
   "outputs": [
    {
     "data": {
      "text/plain": [
       "True"
      ]
     },
     "execution_count": 88,
     "metadata": {},
     "output_type": "execute_result"
    }
   ],
   "source": [
    "data['Breed'].unique()\n",
    "'Old English Sheepdog' in data['Breed'].unique()"
   ]
  },
  {
   "cell_type": "code",
   "execution_count": 46,
   "metadata": {
    "collapsed": false
   },
   "outputs": [
    {
     "data": {
      "text/plain": [
       "1380"
      ]
     },
     "execution_count": 46,
     "metadata": {},
     "output_type": "execute_result"
    }
   ],
   "source": [
    "len(data['Breed'].unique())"
   ]
  },
  {
   "cell_type": "code",
   "execution_count": 47,
   "metadata": {
    "collapsed": false
   },
   "outputs": [
    {
     "data": {
      "text/plain": [
       "array(['Brown/White', 'Cream Tabby', 'Blue/White', 'Blue Cream', 'Tan',\n",
       "       'Black/Tan', 'Blue Tabby', 'Brown Tabby', 'Red/White', 'White',\n",
       "       'Black', 'Silver', 'Brown', 'Black/Red', 'White/Cream',\n",
       "       'Orange Tabby/White', 'Black/White', 'Brown Brindle/White',\n",
       "       'Black/Brown', 'Orange Tabby', 'Chocolate/White', 'White/Tan',\n",
       "       'Cream Tabby/White', 'Blue', 'Calico', 'Torbie', 'Brown/Black',\n",
       "       'Yellow', 'Tricolor', 'White/Black', 'Tortie', 'Blue Tabby/White',\n",
       "       'Gray/White', 'Tan/Black', 'Tan/White', 'Buff', 'Brown Tabby/White',\n",
       "       'Red', 'Blue/Tan', 'Seal Point', 'Brown Brindle', 'White/Brown',\n",
       "       'Gray', 'Yellow Brindle/White', 'Fawn/White', 'Flame Point',\n",
       "       'Black Tabby/White', 'Tortie/Calico', 'Black/Brown Brindle',\n",
       "       'White/Gray', 'Tan/Silver', 'Red Tick/Black', 'White/Cream Tabby',\n",
       "       'Blue Merle', 'Chocolate/Tan', 'Sable', 'Brown Merle/White',\n",
       "       'Brown Tiger/White', 'Liver/White', 'White/Blue Tabby',\n",
       "       'Black/Gray', 'Cream', 'Chocolate', 'Blue Point', 'Apricot/White',\n",
       "       'Red Merle/Black', 'White/Brown Tabby', 'Blue Merle/White', 'Fawn',\n",
       "       'Lynx Point/White', 'Fawn/Black', 'Red Tick/White', 'Buff/Tan',\n",
       "       'Brown Brindle/Red Tick', 'White/Blue', 'Lilac Point', 'Buff/White',\n",
       "       'White/Orange Tabby', 'Tortie Point', 'Lynx Point', 'Tortie/White',\n",
       "       'Black/Tricolor', 'Apricot', 'Red/Tan', 'Tan/Brown',\n",
       "       'White/Tricolor', 'Brown/Tricolor', 'White/White', 'Gray Tabby',\n",
       "       'Sable/White', 'Blue Tiger/White', 'Yellow Brindle',\n",
       "       'White/Brown Brindle', 'Gold', 'Brown/Tan', 'Blue Tick',\n",
       "       'Torbie/White', 'Black Smoke/White', 'Blue Tabby/Orange',\n",
       "       'Red Merle', 'Tricolor/Blue', 'Yellow/White', 'Black Smoke',\n",
       "       'Calico Point', 'Blue Cream/Blue Tiger', 'Blue Merle/Gray',\n",
       "       'Brown/Silver', 'Tricolor/White', 'Sable/Black', 'Black Brindle',\n",
       "       'Tortie Point/Lynx Point', 'Brown Brindle/Black', 'Black/Buff',\n",
       "       'Calico/White', 'White/Orange', 'Black Tabby', 'Brown Merle',\n",
       "       'Black Brindle/White', 'Tan/Gray', 'Blue Merle/Brown',\n",
       "       'Red Merle/White', 'White/Chocolate Point', 'Silver/Black',\n",
       "       'White/Red', 'Cream/Red Tick', 'Cream/White', 'White/Liver',\n",
       "       'Chocolate/Gold', 'Calico Point/White', 'Brown/Brown',\n",
       "       'Seal Point/White', 'White/Black Brindle', 'Red/Black',\n",
       "       'Sable/Brown', 'Silver/Tan', 'White/Blue Merle',\n",
       "       'Calico/Brown Tabby', 'Silver Tabby', 'Tan/Blue', 'Blue Merle/Tan',\n",
       "       'Blue Tick/Black', 'Cream/Black', 'Chocolate/Tricolor',\n",
       "       'Gold/White', 'Silver/Brown', 'Cream/Gray', 'Black/Blue Tick',\n",
       "       'White/Chocolate', 'Black/Blue Merle', 'Red/Red Tick',\n",
       "       'Tricolor/Black', 'Orange', 'Black/Orange', 'Tan/Buff',\n",
       "       'Chocolate Point/White', 'Orange/White', 'Tortie/Blue Cream',\n",
       "       'White/Black Tabby', 'Brown/Red Tick', 'Blue/Brown Brindle',\n",
       "       'Black/Silver Tabby', 'Tan/Red', 'White/Lynx Point', 'Gray/Silver',\n",
       "       'Red/Gold', 'White/Buff', 'Tan/Gold', 'Blue Tabby/Blue Cream',\n",
       "       'Cream/Tan', 'Calico/Black', 'Sable/Tan', 'Blue/Black',\n",
       "       'Brown Tabby/Black', 'Red/Cream', 'Brown Tiger', 'Agouti',\n",
       "       'Gray/Tan', 'Calico/Tricolor', 'Black/Black', 'White/Blue Cream',\n",
       "       'Brown/Gray', 'Blue Point/White', 'Gray Tabby/White',\n",
       "       'White/Brown Tiger', 'Black/Cream', 'Red Tick/Tan',\n",
       "       'Orange Tabby/Apricot', 'Red Tick/Brown', 'White/Brown Merle',\n",
       "       'Fawn/Tricolor', 'Blue Smoke', 'Chocolate/Brown Brindle',\n",
       "       'Black Brindle/Black', 'Tan/Cream', 'Black Tabby/Orange',\n",
       "       'Apricot/Brown', 'Gray/Black', 'Buff/Red', 'Tan/Brown Brindle',\n",
       "       'Brown/Red', 'Black/Silver', 'Red Tick', 'Blue Tick/White',\n",
       "       'Silver Tabby/White', 'White/Apricot', 'White/Red Merle',\n",
       "       'Fawn/Brown Brindle', 'Orange/Tan', 'Black/Black Smoke',\n",
       "       'Brown/Chocolate', 'Liver Tick', 'Cream/Red',\n",
       "       'Black Smoke/Brown Tabby', 'Gray/Cream', 'Chocolate Point',\n",
       "       'Blue Merle/Tricolor', 'Red/Blue', 'Tricolor/Brown Merle',\n",
       "       'Blue/Tortie', 'Blue Smoke/Brown', 'Red/Brown', 'White/Silver',\n",
       "       'Tricolor/Brown', 'Chocolate/Brown', 'Blue Cream/White',\n",
       "       'Chocolate/Red', 'Cream/Brown', 'Blue Merle/Cream', 'Buff/Black',\n",
       "       'Tortie/Orange', 'Brown Merle/Black', 'Seal Point/Brown',\n",
       "       'Blue Tabby/Tan', 'Red/Red Merle', 'Tortie/Brown', 'Sable/Cream',\n",
       "       'Black/Black Tabby', 'Brown Tabby/Gray', 'Tan/Tan',\n",
       "       'Blue Tick/Brown', 'Chocolate/Black Smoke', 'Brown/Black Tabby',\n",
       "       'Brown/Buff', 'Yellow Brindle/Tan', 'Blue Tick/Tan',\n",
       "       'Red Tick/Brown Merle', 'White/Yellow', 'Lynx Point/Brown Tabby',\n",
       "       'Torbie/Brown', 'Liver/Buff', 'Tricolor/Tan', 'Chocolate/Black',\n",
       "       'Pink', 'Black/Blue', 'White/Gold', 'Red Tick/Red',\n",
       "       'Black/Yellow Brindle', 'Black/Chocolate', 'Silver Lynx Point',\n",
       "       'Brown/Brown Merle', 'Orange Tabby/Black', 'Tortie/Black',\n",
       "       'Brown Tabby/Brown', 'Brown Brindle/Tan', 'Torbie/Blue Cream',\n",
       "       'Black Brindle/Brown', 'Red/Tricolor', 'Blue/Yellow Brindle',\n",
       "       'White/Black Smoke', 'Ruddy/Cream', 'Blue Merle/Black',\n",
       "       'White/Yellow Brindle', 'Blue/Cream', 'Gold/Yellow', 'Blue Tiger',\n",
       "       'Tan/Brown Merle', 'White/Red Tick', 'Buff/Yellow',\n",
       "       'Tricolor/Chocolate', 'Silver/White', 'Gold/Tan', 'Gold/Gold',\n",
       "       'Tortie Point/White', 'Blue Tick/Red Tick', 'Brown Merle/Tan',\n",
       "       'Red Tick/Blue Tick', 'Brown/Blue Smoke', 'Liver/Tan',\n",
       "       'Red Merle/Tan', 'Black/Black Brindle', 'Blue Cream/Buff',\n",
       "       'Gray/Brown', 'Blue/Orange', 'Brown Merle/Blue Merle', 'White/Pink',\n",
       "       'Calico/Brown', 'Torbie/Calico', 'White/Gray Tabby',\n",
       "       'Brown Brindle/Blue', 'Brown/Blue', 'Blue Merle/Red',\n",
       "       'Brown Brindle/Brown Merle', 'Blue/Brown', 'Calico/Orange Tabby',\n",
       "       'White/Flame Point', 'Brown/Cream', 'Brown Brindle/Brown Brindle',\n",
       "       'Blue Merle/Blue Merle', 'White/Calico', 'Fawn/Brown', 'Gold/Black',\n",
       "       'Chocolate/Brown Merle', 'White/Blue Tick', 'Agouti/Brown Tabby',\n",
       "       'Brown Tabby/Tortie', 'Black/Yellow', 'Chocolate/Red Tick',\n",
       "       'Gray/Red', 'Brown Brindle/Blue Tick', 'Tan/Apricot',\n",
       "       'Blue Tick/Brown Brindle', 'Liver Tick/White', 'Cream/Seal Point',\n",
       "       'Lynx Point/Gray Tabby', 'Red/Buff', 'Tan/Tricolor',\n",
       "       'Blue Tabby/Cream', 'Black Tiger/White', 'Silver/Chocolate',\n",
       "       'Tricolor/Silver', 'Blue Merle/Red Merle', 'Silver Tabby/Black',\n",
       "       'Tortie/Black Smoke', 'Orange/Orange Tabby', 'Fawn/Blue',\n",
       "       'Black/Brown Merle', 'Tricolor/Blue Merle', 'Blue Cream/Tortie',\n",
       "       'Orange Tabby/Orange', 'Blue Tick/Red', 'Fawn/Tan',\n",
       "       'Brown Tabby/Orange', 'Yellow Brindle/Blue',\n",
       "       'Brown Brindle/Blue Cream', 'Yellow/Black', 'Calico/Blue Cream',\n",
       "       'Tan/Yellow Brindle', 'Black Brindle/Brown Brindle',\n",
       "       'Chocolate/Cream', 'Blue Cream/Blue Tabby', 'Calico/Blue Tabby',\n",
       "       'Orange Tiger', 'Cream/Orange', 'Sable/Red', 'Buff/Gray',\n",
       "       'Gold/Buff', 'Silver/Red', 'Tricolor/Calico', 'Brown/Black Brindle',\n",
       "       'Chocolate/Gray', 'Brown Tabby/Gray Tabby', 'Yellow/Yellow',\n",
       "       'Gray Tabby/Black', 'Red/Silver', 'Buff/Brown', 'Sable/Buff'], dtype=object)"
      ]
     },
     "execution_count": 47,
     "metadata": {},
     "output_type": "execute_result"
    }
   ],
   "source": [
    "data['Color'].unique()"
   ]
  },
  {
   "cell_type": "code",
   "execution_count": 90,
   "metadata": {
    "collapsed": false
   },
   "outputs": [
    {
     "data": {
      "text/plain": [
       "<matplotlib.axes._subplots.AxesSubplot at 0x116d6f110>"
      ]
     },
     "execution_count": 90,
     "metadata": {},
     "output_type": "execute_result"
    },
    {
     "data": {
      "image/png": "[encoded data removed]",
      "text/plain": [
       "<matplotlib.figure.Figure at 0x11bcb3a50>"
      ]
     },
     "metadata": {},
     "output_type": "display_data"
    }
   ],
   "source": [
    "cats = data[data['AnimalType'] == \"Cat\"]\n",
    "cats['OutcomeType'].value_counts().plot(kind='bar')"
   ]
  },
  {
   "cell_type": "code",
   "execution_count": 94,
   "metadata": {
    "collapsed": false
   },
   "outputs": [
    {
     "data": {
      "text/plain": [
       "<matplotlib.axes._subplots.AxesSubplot at 0x11b265350>"
      ]
     },
     "execution_count": 94,
     "metadata": {},
     "output_type": "execute_result"
    },
    {
     "data": {
      "image/png": "[encoded data removed]",
      "text/plain": [
       "<matplotlib.figure.Figure at 0x11be1b450>"
      ]
     },
     "metadata": {},
     "output_type": "display_data"
    }
   ],
   "source": [
    "def get_hour(date_time):\n",
    "    return date_time.hour\n",
    "hour = cats['DateTime'].apply(get_hour)\n",
    "cats.loc[:, 'Hour'] = hour\n",
    "cats_at_eight = cats[cats['Hour'] == 8]\n",
    "cats_at_eight['OutcomeType'].value_counts().plot(kind='bar')"
   ]
  },
  {
   "cell_type": "code",
   "execution_count": 93,
   "metadata": {
    "collapsed": false
   },
   "outputs": [
    {
     "data": {
      "text/plain": [
       "<matplotlib.axes._subplots.AxesSubplot at 0x11b14ba90>"
      ]
     },
     "execution_count": 93,
     "metadata": {},
     "output_type": "execute_result"
    },
    {
     "data": {
      "image/png": "[encoded data removed]",
      "text/plain": [
       "<matplotlib.figure.Figure at 0x11a9f4950>"
      ]
     },
     "metadata": {},
     "output_type": "display_data"
    }
   ],
   "source": [
    "cats_at_nine = cats[cats['Hour'] == 9]\n",
    "cats_at_nine['OutcomeType'].value_counts().plot(kind='bar')"
   ]
  },
  {
   "cell_type": "markdown",
   "metadata": {},
   "source": [
    "### Algorithms and Techniques\n",
    "### Benchmark\n",
    "## Methodology\n",
    "## Results\n",
    "## Conclusion"
   ]
  }
 ],
 "metadata": {
  "kernelspec": {
   "display_name": "Python 2",
   "language": "python",
   "name": "python2"
  },
  "language_info": {
   "codemirror_mode": {
    "name": "ipython",
    "version": 2
   },
   "file_extension": ".py",
   "mimetype": "text/x-python",
   "name": "python",
   "nbconvert_exporter": "python",
   "pygments_lexer": "ipython2",
   "version": "2.7.11"
  }
 },
 "nbformat": 4,
 "nbformat_minor": 0
}
